{
 "cells": [
  {
   "cell_type": "markdown",
   "id": "8b4405f3-ff20-45fc-b83b-8ab976285d28",
   "metadata": {},
   "source": [
    "# Coin Metrics Python API Client Walkthrough (Community Version)\n",
    "_Last Updated: Version `2022.1.19.22.0`_\n",
    "\n",
    "This notebook demonstrates basic functionality offered by the Coin Metrics Python API Client using the Community Version.\n",
    "\n",
    "Coin Metrics offers a vast assortment of data for hundreds of cryptoassets. The Python API Client allows for easy access to this data using Python without needing to create your own wrappers using `requests` and other such libraries.\n",
    "\n",
    "## Resources\n",
    "To understand the data that Coin Metrics offers, feel free to peruse the resources below.\n",
    "\n",
    "- The [Coin Metrics API v4](https://docs.coinmetrics.io/api/v4) website contains the full set of endpoints and data offered by Coin Metrics.\n",
    "- The [Coin Metrics Knowledge Base](https://docs.coinmetrics.io/info) gives detailed, conceptual explanations of the data that Coin Metrics offers.\n",
    "- The [API Spec](https://coinmetrics.github.io/api-client-python/site/api_client.html) contains a full list of functions."
   ]
  },
  {
   "cell_type": "markdown",
   "id": "16c3476d-c33a-421e-811e-344b59735ec0",
   "metadata": {},
   "source": [
    "## Setup"
   ]
  },
  {
   "cell_type": "code",
   "execution_count": 1,
   "id": "7fbd2927-9184-41fd-8403-b259146ee1a2",
   "metadata": {},
   "outputs": [],
   "source": [
    "from os import environ\n",
    "import sys\n",
    "import pandas as pd\n",
    "import numpy as np\n",
    "import seaborn as sns\n",
    "import logging\n",
    "from datetime import date, datetime, timedelta\n",
    "from coinmetrics.api_client import CoinMetricsClient\n",
    "import json\n",
    "import logging\n",
    "from pytz import timezone as timezone_conv\n",
    "from datetime import timezone as timezone_info\n",
    "\n",
    "import matplotlib.pyplot as plt\n",
    "%matplotlib inline"
   ]
  },
  {
   "cell_type": "code",
   "execution_count": 2,
   "id": "6ab06f8c-e7f4-41b4-b92e-18a3de36a427",
   "metadata": {},
   "outputs": [],
   "source": [
    "sns.set_theme()\n",
    "sns.set(rc={'figure.figsize':(12,8)})\n"
   ]
  },
  {
   "cell_type": "code",
   "execution_count": 3,
   "id": "abc14b24-03f4-457c-94aa-0c33ff01c79b",
   "metadata": {},
   "outputs": [],
   "source": [
    "logging.basicConfig(\n",
    "    format='%(asctime)s %(levelname)-8s %(message)s',\n",
    "    level=logging.INFO,\n",
    "    datefmt='%Y-%m-%d %H:%M:%S'\n",
    ")"
   ]
  },
  {
   "cell_type": "code",
   "execution_count": 4,
   "id": "ecbe22c4-ee5a-4130-bc7f-9bf9a61b4bc1",
   "metadata": {},
   "outputs": [
    {
     "name": "stderr",
     "output_type": "stream",
     "text": [
      "2022-01-20 14:48:58 INFO     API key not found. Using community client\n"
     ]
    }
   ],
   "source": [
    "# We recommend privately storing your API key in your local environment.\n",
    "try:\n",
    "    api_key = environ[\"CM_API_KEY\"]\n",
    "    logging.info(\"Using API key found in environment\")\n",
    "except KeyError:\n",
    "    api_key = \"\"\n",
    "    logging.info(\"API key not found. Using community client\")\n",
    "\n",
    "\n",
    "client = CoinMetricsClient(api_key)"
   ]
  },
  {
   "cell_type": "code",
   "execution_count": 5,
   "id": "4f0794cd-4eb4-48df-b526-443b8c9e08de",
   "metadata": {},
   "outputs": [
    {
     "name": "stdout",
     "output_type": "stream",
     "text": [
      "{0: 'btc', 1: 'eth'}\n"
     ]
    }
   ],
   "source": [
    "assets = ['btc', 'eth']\n",
    "asset_mapping = {i: assets[i] for i in range(len(assets))}\n",
    "print(asset_mapping)"
   ]
  },
  {
   "cell_type": "markdown",
   "id": "32cfcda6-2546-4965-82a6-bdf857ffc251",
   "metadata": {},
   "source": [
    "## Catalogs\n",
    "\n",
    "The Coin Metrics API contains two types of catalog endpoints (Python client functions in paranthesis): the `catalog` (`catalog_*`) and `catalog-all` (`catalog_full_*`).\n",
    "\n",
    "The `catalog` endpoint displays the set of data available to your API key. The `catalog-all` endpoint displays the full set of data for CM Pro users."
   ]
  },
  {
   "cell_type": "code",
   "execution_count": 6,
   "id": "8368849c-a934-4147-b041-03930daedb8d",
   "metadata": {},
   "outputs": [],
   "source": [
    "asset_catalog = client.catalog_assets(assets=assets)\n",
    "full_asset_catalog = client.catalog_full_assets(assets=assets)"
   ]
  },
  {
   "cell_type": "markdown",
   "id": "042ae5c3-94a8-4a4b-bf20-e59f04c540ec",
   "metadata": {},
   "source": [
    "Catalog objects return a list of dictionaries. For `catalog_assets`, each element of the list is an asset, while each dictionary is a set of metadata for that specific asset."
   ]
  },
  {
   "cell_type": "code",
   "execution_count": 7,
   "id": "024bd35c-3ffc-4326-b826-bf7c2cb69bf9",
   "metadata": {},
   "outputs": [
    {
     "name": "stdout",
     "output_type": "stream",
     "text": [
      "Asset Catalog metadata includes: ['asset', 'full_name', 'metrics', 'exchanges', 'markets']\n"
     ]
    }
   ],
   "source": [
    "print(f\"Asset Catalog metadata includes: {list(asset_catalog[0].keys())}\")\n"
   ]
  },
  {
   "cell_type": "code",
   "execution_count": 8,
   "id": "ce3be8e4-525d-480b-8c3a-84d2fd02a654",
   "metadata": {},
   "outputs": [
    {
     "name": "stdout",
     "output_type": "stream",
     "text": [
      "*** catalog endpoint ***\n",
      "Some of the markets offered for btc: ['bibox-abt-btc-spot', 'bibox-bch-btc-spot', 'bibox-bcv-btc-spot', 'bibox-bix-btc-spot', 'bibox-boe-btc-spot']\n",
      "Number of *available* metrics offered for btc: 143\n",
      "Some of the markets offered for eth: ['bibox-abt-eth-spot', 'bibox-atom-eth-spot', 'bibox-bch-eth-spot', 'bibox-bcv-eth-spot', 'bibox-bix-eth-spot']\n",
      "Number of *available* metrics offered for eth: 142\n"
     ]
    }
   ],
   "source": [
    "print(\"*** catalog endpoint ***\")\n",
    "for i in range(len(asset_catalog)):\n",
    "    asset_metadata = asset_catalog[i]\n",
    "    asset_name = asset_metadata['asset']\n",
    "    print(f\"Some of the markets offered for {asset_name}: {asset_metadata['markets'][:5]}\")\n",
    "    print(f\"Number of *available* metrics offered for {asset_name}: {len(asset_metadata['metrics'])}\")"
   ]
  },
  {
   "cell_type": "markdown",
   "id": "de39800e",
   "metadata": {},
   "source": [
    "#### Catalog DataFrames (New in version `2022.1.13.20.0`)\n",
    "As of `2022.1.13.20.0`, catalog objects can be converted to pandas dataframes! This is useful for viewing the catalog in a flat version."
   ]
  },
  {
   "cell_type": "code",
   "execution_count": 9,
   "id": "206124fe",
   "metadata": {},
   "outputs": [
    {
     "data": {
      "text/html": [
       "<div>\n",
       "<style scoped>\n",
       "    .dataframe tbody tr th:only-of-type {\n",
       "        vertical-align: middle;\n",
       "    }\n",
       "\n",
       "    .dataframe tbody tr th {\n",
       "        vertical-align: top;\n",
       "    }\n",
       "\n",
       "    .dataframe thead th {\n",
       "        text-align: right;\n",
       "    }\n",
       "</style>\n",
       "<table border=\"1\" class=\"dataframe\">\n",
       "  <thead>\n",
       "    <tr style=\"text-align: right;\">\n",
       "      <th></th>\n",
       "      <th>asset</th>\n",
       "      <th>full_name</th>\n",
       "      <th>metrics</th>\n",
       "      <th>market</th>\n",
       "      <th>exchange</th>\n",
       "    </tr>\n",
       "  </thead>\n",
       "  <tbody>\n",
       "    <tr>\n",
       "      <th>0</th>\n",
       "      <td>btc</td>\n",
       "      <td>Bitcoin</td>\n",
       "      <td>[{'metric': 'AdrActCnt', 'frequencies': [{'fre...</td>\n",
       "      <td>bibox-abt-btc-spot</td>\n",
       "      <td>bibox</td>\n",
       "    </tr>\n",
       "    <tr>\n",
       "      <th>1</th>\n",
       "      <td>btc</td>\n",
       "      <td>Bitcoin</td>\n",
       "      <td>[{'metric': 'AdrActCnt', 'frequencies': [{'fre...</td>\n",
       "      <td>bibox-bch-btc-spot</td>\n",
       "      <td>bibox</td>\n",
       "    </tr>\n",
       "    <tr>\n",
       "      <th>2</th>\n",
       "      <td>btc</td>\n",
       "      <td>Bitcoin</td>\n",
       "      <td>[{'metric': 'AdrActCnt', 'frequencies': [{'fre...</td>\n",
       "      <td>bibox-bcv-btc-spot</td>\n",
       "      <td>bibox</td>\n",
       "    </tr>\n",
       "    <tr>\n",
       "      <th>3</th>\n",
       "      <td>btc</td>\n",
       "      <td>Bitcoin</td>\n",
       "      <td>[{'metric': 'AdrActCnt', 'frequencies': [{'fre...</td>\n",
       "      <td>bibox-bix-btc-spot</td>\n",
       "      <td>bibox</td>\n",
       "    </tr>\n",
       "    <tr>\n",
       "      <th>4</th>\n",
       "      <td>btc</td>\n",
       "      <td>Bitcoin</td>\n",
       "      <td>[{'metric': 'AdrActCnt', 'frequencies': [{'fre...</td>\n",
       "      <td>bibox-boe-btc-spot</td>\n",
       "      <td>bibox</td>\n",
       "    </tr>\n",
       "  </tbody>\n",
       "</table>\n",
       "</div>"
      ],
      "text/plain": [
       "  asset full_name                                            metrics  \\\n",
       "0   btc   Bitcoin  [{'metric': 'AdrActCnt', 'frequencies': [{'fre...   \n",
       "1   btc   Bitcoin  [{'metric': 'AdrActCnt', 'frequencies': [{'fre...   \n",
       "2   btc   Bitcoin  [{'metric': 'AdrActCnt', 'frequencies': [{'fre...   \n",
       "3   btc   Bitcoin  [{'metric': 'AdrActCnt', 'frequencies': [{'fre...   \n",
       "4   btc   Bitcoin  [{'metric': 'AdrActCnt', 'frequencies': [{'fre...   \n",
       "\n",
       "               market exchange  \n",
       "0  bibox-abt-btc-spot    bibox  \n",
       "1  bibox-bch-btc-spot    bibox  \n",
       "2  bibox-bcv-btc-spot    bibox  \n",
       "3  bibox-bix-btc-spot    bibox  \n",
       "4  bibox-boe-btc-spot    bibox  "
      ]
     },
     "execution_count": 9,
     "metadata": {},
     "output_type": "execute_result"
    }
   ],
   "source": [
    "df_catalog_assets = client.catalog_assets(assets=assets).to_dataframe(secondary_level='markets')\n",
    "df_catalog_assets.head()"
   ]
  },
  {
   "cell_type": "code",
   "execution_count": 10,
   "id": "afc968a6-f736-4a39-8e52-1b24d9b7752a",
   "metadata": {},
   "outputs": [
    {
     "name": "stdout",
     "output_type": "stream",
     "text": [
      "*** catalog-all endpoint ***\n",
      "Some of the markets offered for btc: ['bibox-abt-btc-spot', 'bibox-bch-btc-spot', 'bibox-bcv-btc-spot', 'bibox-bix-btc-spot', 'bibox-boe-btc-spot']\n",
      "Total number of metrics offered for btc: 438\n",
      "Some of the markets offered for eth: ['bibox-abt-eth-spot', 'bibox-atom-eth-spot', 'bibox-bch-eth-spot', 'bibox-bcv-eth-spot', 'bibox-bix-eth-spot']\n",
      "Total number of metrics offered for eth: 415\n"
     ]
    }
   ],
   "source": [
    "print(\"*** catalog-all endpoint ***\")\n",
    "for i in range(len(full_asset_catalog)):\n",
    "    full_asset_metadata = full_asset_catalog[i]\n",
    "    asset_name = full_asset_metadata['asset']\n",
    "    print(f\"Some of the markets offered for {asset_name}: {full_asset_metadata['markets'][:5]}\")\n",
    "    print(f\"Total number of metrics offered for {asset_name}: {len(full_asset_metadata['metrics'])}\")"
   ]
  },
  {
   "cell_type": "markdown",
   "id": "a9bfcbfd-e71c-4f31-8f5b-10b5ee83dc97",
   "metadata": {
    "tags": []
   },
   "source": [
    "## Index Data Examples\n",
    "\n",
    "_The Coin Metrics Bletchley Indexes (“CMBI”) are designed to provide cryptoasset markets with a diverse range of market capitalization weighted, equal weighted and network data weighted indexes to measure performance of the largest and most utilized global cryptoassets. CMBI products are operated and calculated by Coin Metrics and are designed to serve as an independent, transparent and comprehensive measure of crypto market performance._\n",
    "\n",
    "We can use the Python API Client to query the index data and its constituents over time. For more information on the index data, check out our [index page](https://indexes.coinmetrics.io/) and our [knowledge base](https://docs.coinmetrics.io/info/indexes)."
   ]
  },
  {
   "cell_type": "code",
   "execution_count": 11,
   "id": "d693782d-12c7-4dc3-bc23-60ff38eb8f45",
   "metadata": {},
   "outputs": [],
   "source": [
    "indexes = ['CMBIBE']"
   ]
  },
  {
   "cell_type": "code",
   "execution_count": 12,
   "id": "8dc23474-fc29-4ef1-84d5-91d3fb7490e4",
   "metadata": {},
   "outputs": [
    {
     "data": {
      "text/plain": [
       "[{'index': 'CMBIBE',\n",
       "  'full_name': 'CMBI Bitcoin & Ethereum Index',\n",
       "  'description': 'An index consisting of Bitcoin and Ethereum, weighted by their free float market capitalization.',\n",
       "  'frequencies': [{'frequency': '15s',\n",
       "    'min_time': '2022-01-19T20:48:15.000000000Z',\n",
       "    'max_time': '2022-01-20T20:48:15.000000000Z'},\n",
       "   {'frequency': '1d',\n",
       "    'min_time': '2015-08-09T00:00:00.000000000Z',\n",
       "    'max_time': '2022-01-20T00:00:00.000000000Z'},\n",
       "   {'frequency': '1d-ny-close',\n",
       "    'min_time': '2015-08-08T20:00:00.000000000Z',\n",
       "    'max_time': '2022-01-19T21:00:00.000000000Z'},\n",
       "   {'frequency': '1d-sg-close',\n",
       "    'min_time': '2015-08-09T08:00:00.000000000Z',\n",
       "    'max_time': '2022-01-20T08:00:00.000000000Z'},\n",
       "   {'frequency': '1h',\n",
       "    'min_time': '2022-01-19T20:00:00.000000000Z',\n",
       "    'max_time': '2022-01-20T20:00:00.000000000Z'}]}]"
      ]
     },
     "execution_count": 12,
     "metadata": {},
     "output_type": "execute_result"
    }
   ],
   "source": [
    "client.catalog_indexes(indexes)"
   ]
  },
  {
   "cell_type": "code",
   "execution_count": 13,
   "id": "6557ae05-895e-4f13-914a-0ad611787d1a",
   "metadata": {},
   "outputs": [],
   "source": [
    "df_index_levels = client.get_index_levels(indexes).to_dataframe()"
   ]
  },
  {
   "cell_type": "code",
   "execution_count": 14,
   "id": "a1e165c2-19e7-46b6-af5c-3397a3cc19ad",
   "metadata": {},
   "outputs": [
    {
     "data": {
      "text/html": [
       "<div>\n",
       "<style scoped>\n",
       "    .dataframe tbody tr th:only-of-type {\n",
       "        vertical-align: middle;\n",
       "    }\n",
       "\n",
       "    .dataframe tbody tr th {\n",
       "        vertical-align: top;\n",
       "    }\n",
       "\n",
       "    .dataframe thead th {\n",
       "        text-align: right;\n",
       "    }\n",
       "</style>\n",
       "<table border=\"1\" class=\"dataframe\">\n",
       "  <thead>\n",
       "    <tr style=\"text-align: right;\">\n",
       "      <th></th>\n",
       "      <th>index</th>\n",
       "      <th>time</th>\n",
       "      <th>level</th>\n",
       "    </tr>\n",
       "  </thead>\n",
       "  <tbody>\n",
       "    <tr>\n",
       "      <th>0</th>\n",
       "      <td>CMBIBE</td>\n",
       "      <td>2019-04-27 00:00:00+00:00</td>\n",
       "      <td>2187.876114</td>\n",
       "    </tr>\n",
       "    <tr>\n",
       "      <th>1</th>\n",
       "      <td>CMBIBE</td>\n",
       "      <td>2019-04-28 00:00:00+00:00</td>\n",
       "      <td>2206.009523</td>\n",
       "    </tr>\n",
       "    <tr>\n",
       "      <th>2</th>\n",
       "      <td>CMBIBE</td>\n",
       "      <td>2019-04-29 00:00:00+00:00</td>\n",
       "      <td>2188.102419</td>\n",
       "    </tr>\n",
       "    <tr>\n",
       "      <th>3</th>\n",
       "      <td>CMBIBE</td>\n",
       "      <td>2019-04-30 00:00:00+00:00</td>\n",
       "      <td>2186.332718</td>\n",
       "    </tr>\n",
       "    <tr>\n",
       "      <th>4</th>\n",
       "      <td>CMBIBE</td>\n",
       "      <td>2019-05-01 00:00:00+00:00</td>\n",
       "      <td>2246.387332</td>\n",
       "    </tr>\n",
       "  </tbody>\n",
       "</table>\n",
       "</div>"
      ],
      "text/plain": [
       "    index                      time        level\n",
       "0  CMBIBE 2019-04-27 00:00:00+00:00  2187.876114\n",
       "1  CMBIBE 2019-04-28 00:00:00+00:00  2206.009523\n",
       "2  CMBIBE 2019-04-29 00:00:00+00:00  2188.102419\n",
       "3  CMBIBE 2019-04-30 00:00:00+00:00  2186.332718\n",
       "4  CMBIBE 2019-05-01 00:00:00+00:00  2246.387332"
      ]
     },
     "execution_count": 14,
     "metadata": {},
     "output_type": "execute_result"
    }
   ],
   "source": [
    "df_index_levels.head()"
   ]
  },
  {
   "cell_type": "code",
   "execution_count": 15,
   "id": "8a73d0c0-d1ba-4276-8aa6-4274f9bac846",
   "metadata": {},
   "outputs": [
    {
     "data": {
      "text/html": [
       "<div>\n",
       "<style scoped>\n",
       "    .dataframe tbody tr th:only-of-type {\n",
       "        vertical-align: middle;\n",
       "    }\n",
       "\n",
       "    .dataframe tbody tr th {\n",
       "        vertical-align: top;\n",
       "    }\n",
       "\n",
       "    .dataframe thead th {\n",
       "        text-align: right;\n",
       "    }\n",
       "</style>\n",
       "<table border=\"1\" class=\"dataframe\">\n",
       "  <thead>\n",
       "    <tr style=\"text-align: right;\">\n",
       "      <th></th>\n",
       "      <th>index</th>\n",
       "      <th>time</th>\n",
       "      <th>level</th>\n",
       "    </tr>\n",
       "  </thead>\n",
       "  <tbody>\n",
       "    <tr>\n",
       "      <th>0</th>\n",
       "      <td>CMBIBE</td>\n",
       "      <td>2019-04-27 00:00:00+00:00</td>\n",
       "      <td>2187.876114</td>\n",
       "    </tr>\n",
       "    <tr>\n",
       "      <th>1</th>\n",
       "      <td>CMBIBE</td>\n",
       "      <td>2019-04-28 00:00:00+00:00</td>\n",
       "      <td>2206.009523</td>\n",
       "    </tr>\n",
       "    <tr>\n",
       "      <th>2</th>\n",
       "      <td>CMBIBE</td>\n",
       "      <td>2019-04-29 00:00:00+00:00</td>\n",
       "      <td>2188.102419</td>\n",
       "    </tr>\n",
       "    <tr>\n",
       "      <th>3</th>\n",
       "      <td>CMBIBE</td>\n",
       "      <td>2019-04-30 00:00:00+00:00</td>\n",
       "      <td>2186.332718</td>\n",
       "    </tr>\n",
       "    <tr>\n",
       "      <th>4</th>\n",
       "      <td>CMBIBE</td>\n",
       "      <td>2019-05-01 00:00:00+00:00</td>\n",
       "      <td>2246.387332</td>\n",
       "    </tr>\n",
       "    <tr>\n",
       "      <th>...</th>\n",
       "      <td>...</td>\n",
       "      <td>...</td>\n",
       "      <td>...</td>\n",
       "    </tr>\n",
       "    <tr>\n",
       "      <th>2352</th>\n",
       "      <td>CMBIBE</td>\n",
       "      <td>2016-07-26 00:00:00+00:00</td>\n",
       "      <td>269.084593</td>\n",
       "    </tr>\n",
       "    <tr>\n",
       "      <th>2353</th>\n",
       "      <td>CMBIBE</td>\n",
       "      <td>2016-07-27 00:00:00+00:00</td>\n",
       "      <td>264.810747</td>\n",
       "    </tr>\n",
       "    <tr>\n",
       "      <th>2354</th>\n",
       "      <td>CMBIBE</td>\n",
       "      <td>2016-07-28 00:00:00+00:00</td>\n",
       "      <td>267.807481</td>\n",
       "    </tr>\n",
       "    <tr>\n",
       "      <th>2355</th>\n",
       "      <td>CMBIBE</td>\n",
       "      <td>2016-07-29 00:00:00+00:00</td>\n",
       "      <td>267.400664</td>\n",
       "    </tr>\n",
       "    <tr>\n",
       "      <th>2356</th>\n",
       "      <td>CMBIBE</td>\n",
       "      <td>2016-07-30 00:00:00+00:00</td>\n",
       "      <td>267.874784</td>\n",
       "    </tr>\n",
       "  </tbody>\n",
       "</table>\n",
       "<p>2357 rows × 3 columns</p>\n",
       "</div>"
      ],
      "text/plain": [
       "       index                      time        level\n",
       "0     CMBIBE 2019-04-27 00:00:00+00:00  2187.876114\n",
       "1     CMBIBE 2019-04-28 00:00:00+00:00  2206.009523\n",
       "2     CMBIBE 2019-04-29 00:00:00+00:00  2188.102419\n",
       "3     CMBIBE 2019-04-30 00:00:00+00:00  2186.332718\n",
       "4     CMBIBE 2019-05-01 00:00:00+00:00  2246.387332\n",
       "...      ...                       ...          ...\n",
       "2352  CMBIBE 2016-07-26 00:00:00+00:00   269.084593\n",
       "2353  CMBIBE 2016-07-27 00:00:00+00:00   264.810747\n",
       "2354  CMBIBE 2016-07-28 00:00:00+00:00   267.807481\n",
       "2355  CMBIBE 2016-07-29 00:00:00+00:00   267.400664\n",
       "2356  CMBIBE 2016-07-30 00:00:00+00:00   267.874784\n",
       "\n",
       "[2357 rows x 3 columns]"
      ]
     },
     "execution_count": 15,
     "metadata": {},
     "output_type": "execute_result"
    }
   ],
   "source": [
    "df_index_levels"
   ]
  },
  {
   "cell_type": "code",
   "execution_count": 16,
   "id": "dd72e1b7-75eb-4384-9d40-374a96c4cf3c",
   "metadata": {},
   "outputs": [],
   "source": [
    "df_index_constituents = client.get_index_constituents(indexes).to_dataframe()\n",
    "df_index_constituents['constituents'] = df_index_constituents['constituents'].apply(eval)\n"
   ]
  },
  {
   "cell_type": "code",
   "execution_count": 17,
   "id": "e4febcf3-0e5a-433e-8e20-730686c574b0",
   "metadata": {},
   "outputs": [
    {
     "data": {
      "text/html": [
       "<div>\n",
       "<style scoped>\n",
       "    .dataframe tbody tr th:only-of-type {\n",
       "        vertical-align: middle;\n",
       "    }\n",
       "\n",
       "    .dataframe tbody tr th {\n",
       "        vertical-align: top;\n",
       "    }\n",
       "\n",
       "    .dataframe thead th {\n",
       "        text-align: right;\n",
       "    }\n",
       "</style>\n",
       "<table border=\"1\" class=\"dataframe\">\n",
       "  <thead>\n",
       "    <tr style=\"text-align: right;\">\n",
       "      <th></th>\n",
       "      <th>index</th>\n",
       "      <th>time</th>\n",
       "      <th>constituents</th>\n",
       "    </tr>\n",
       "  </thead>\n",
       "  <tbody>\n",
       "    <tr>\n",
       "      <th>0</th>\n",
       "      <td>CMBIBE</td>\n",
       "      <td>2021-12-10 05:00:00+00:00</td>\n",
       "      <td>[{'asset': 'btc', 'weight': '0.601900300842709...</td>\n",
       "    </tr>\n",
       "    <tr>\n",
       "      <th>1</th>\n",
       "      <td>CMBIBE</td>\n",
       "      <td>2021-12-10 06:00:00+00:00</td>\n",
       "      <td>[{'asset': 'btc', 'weight': '0.602482481836115...</td>\n",
       "    </tr>\n",
       "    <tr>\n",
       "      <th>2</th>\n",
       "      <td>CMBIBE</td>\n",
       "      <td>2021-12-10 07:00:00+00:00</td>\n",
       "      <td>[{'asset': 'btc', 'weight': '0.602894399827883...</td>\n",
       "    </tr>\n",
       "    <tr>\n",
       "      <th>3</th>\n",
       "      <td>CMBIBE</td>\n",
       "      <td>2021-12-10 08:00:00+00:00</td>\n",
       "      <td>[{'asset': 'btc', 'weight': '0.604346153481411...</td>\n",
       "    </tr>\n",
       "    <tr>\n",
       "      <th>4</th>\n",
       "      <td>CMBIBE</td>\n",
       "      <td>2021-12-10 09:00:00+00:00</td>\n",
       "      <td>[{'asset': 'btc', 'weight': '0.604661558237566...</td>\n",
       "    </tr>\n",
       "  </tbody>\n",
       "</table>\n",
       "</div>"
      ],
      "text/plain": [
       "    index                      time  \\\n",
       "0  CMBIBE 2021-12-10 05:00:00+00:00   \n",
       "1  CMBIBE 2021-12-10 06:00:00+00:00   \n",
       "2  CMBIBE 2021-12-10 07:00:00+00:00   \n",
       "3  CMBIBE 2021-12-10 08:00:00+00:00   \n",
       "4  CMBIBE 2021-12-10 09:00:00+00:00   \n",
       "\n",
       "                                        constituents  \n",
       "0  [{'asset': 'btc', 'weight': '0.601900300842709...  \n",
       "1  [{'asset': 'btc', 'weight': '0.602482481836115...  \n",
       "2  [{'asset': 'btc', 'weight': '0.602894399827883...  \n",
       "3  [{'asset': 'btc', 'weight': '0.604346153481411...  \n",
       "4  [{'asset': 'btc', 'weight': '0.604661558237566...  "
      ]
     },
     "execution_count": 17,
     "metadata": {},
     "output_type": "execute_result"
    }
   ],
   "source": [
    "df_index_constituents.head()"
   ]
  },
  {
   "cell_type": "markdown",
   "id": "965a9d15-dc4b-4889-b230-00d85cb4064b",
   "metadata": {},
   "source": [
    "Note that the constituents column contains a list of dicts. We can do some light cleaning to pivot that into a column."
   ]
  },
  {
   "cell_type": "code",
   "execution_count": 18,
   "id": "7791bb4a",
   "metadata": {},
   "outputs": [],
   "source": [
    "def _expand_df(key, iterable):\n",
    "    def _assign_value(row):\n",
    "        try:\n",
    "            return row[key]\n",
    "        except (KeyError, TypeError):\n",
    "            return None\n",
    "\n",
    "    return list(map(_assign_value, iterable))"
   ]
  },
  {
   "cell_type": "code",
   "execution_count": 19,
   "id": "5adef857",
   "metadata": {},
   "outputs": [
    {
     "name": "stdout",
     "output_type": "stream",
     "text": [
      "<class 'pandas.core.frame.DataFrame'>\n",
      "RangeIndex: 1440 entries, 0 to 1439\n",
      "Data columns (total 3 columns):\n",
      " #   Column        Non-Null Count  Dtype                  \n",
      "---  ------        --------------  -----                  \n",
      " 0   index         1440 non-null   string                 \n",
      " 1   time          1440 non-null   datetime64[ns, tzutc()]\n",
      " 2   constituents  1440 non-null   object                 \n",
      "dtypes: datetime64[ns, tzutc()](1), object(1), string(1)\n",
      "memory usage: 33.9+ KB\n"
     ]
    }
   ],
   "source": [
    "df_index_constituents.info()"
   ]
  },
  {
   "cell_type": "code",
   "execution_count": 20,
   "id": "2e52c361",
   "metadata": {},
   "outputs": [
    {
     "data": {
      "text/html": [
       "<div>\n",
       "<style scoped>\n",
       "    .dataframe tbody tr th:only-of-type {\n",
       "        vertical-align: middle;\n",
       "    }\n",
       "\n",
       "    .dataframe tbody tr th {\n",
       "        vertical-align: top;\n",
       "    }\n",
       "\n",
       "    .dataframe thead th {\n",
       "        text-align: right;\n",
       "    }\n",
       "</style>\n",
       "<table border=\"1\" class=\"dataframe\">\n",
       "  <thead>\n",
       "    <tr style=\"text-align: right;\">\n",
       "      <th></th>\n",
       "      <th>index</th>\n",
       "      <th>time</th>\n",
       "      <th>asset</th>\n",
       "      <th>weight</th>\n",
       "    </tr>\n",
       "  </thead>\n",
       "  <tbody>\n",
       "    <tr>\n",
       "      <th>0</th>\n",
       "      <td>CMBIBE</td>\n",
       "      <td>2021-12-10 05:00:00+00:00</td>\n",
       "      <td>btc</td>\n",
       "      <td>0.6019003008427091861036278894719671</td>\n",
       "    </tr>\n",
       "    <tr>\n",
       "      <th>0</th>\n",
       "      <td>CMBIBE</td>\n",
       "      <td>2021-12-10 05:00:00+00:00</td>\n",
       "      <td>eth</td>\n",
       "      <td>0.3980996991572908138963721105280329</td>\n",
       "    </tr>\n",
       "    <tr>\n",
       "      <th>1</th>\n",
       "      <td>CMBIBE</td>\n",
       "      <td>2021-12-10 06:00:00+00:00</td>\n",
       "      <td>btc</td>\n",
       "      <td>0.6024824818361156388958318806280792</td>\n",
       "    </tr>\n",
       "    <tr>\n",
       "      <th>1</th>\n",
       "      <td>CMBIBE</td>\n",
       "      <td>2021-12-10 06:00:00+00:00</td>\n",
       "      <td>eth</td>\n",
       "      <td>0.3975175181638843611041681193719208</td>\n",
       "    </tr>\n",
       "    <tr>\n",
       "      <th>2</th>\n",
       "      <td>CMBIBE</td>\n",
       "      <td>2021-12-10 07:00:00+00:00</td>\n",
       "      <td>btc</td>\n",
       "      <td>0.6028943998278839682800265830693469</td>\n",
       "    </tr>\n",
       "    <tr>\n",
       "      <th>...</th>\n",
       "      <td>...</td>\n",
       "      <td>...</td>\n",
       "      <td>...</td>\n",
       "      <td>...</td>\n",
       "    </tr>\n",
       "    <tr>\n",
       "      <th>1437</th>\n",
       "      <td>CMBIBE</td>\n",
       "      <td>2021-12-10 02:00:00+00:00</td>\n",
       "      <td>eth</td>\n",
       "      <td>0.398686770411601530814571632211283</td>\n",
       "    </tr>\n",
       "    <tr>\n",
       "      <th>1438</th>\n",
       "      <td>CMBIBE</td>\n",
       "      <td>2021-12-10 03:00:00+00:00</td>\n",
       "      <td>btc</td>\n",
       "      <td>0.6013121929410849687202272381433167</td>\n",
       "    </tr>\n",
       "    <tr>\n",
       "      <th>1438</th>\n",
       "      <td>CMBIBE</td>\n",
       "      <td>2021-12-10 03:00:00+00:00</td>\n",
       "      <td>eth</td>\n",
       "      <td>0.3986878070589150312797727618566833</td>\n",
       "    </tr>\n",
       "    <tr>\n",
       "      <th>1439</th>\n",
       "      <td>CMBIBE</td>\n",
       "      <td>2021-12-10 04:00:00+00:00</td>\n",
       "      <td>btc</td>\n",
       "      <td>0.6019628225247178556033547774184495</td>\n",
       "    </tr>\n",
       "    <tr>\n",
       "      <th>1439</th>\n",
       "      <td>CMBIBE</td>\n",
       "      <td>2021-12-10 04:00:00+00:00</td>\n",
       "      <td>eth</td>\n",
       "      <td>0.3980371774752821443966452225815505</td>\n",
       "    </tr>\n",
       "  </tbody>\n",
       "</table>\n",
       "<p>2880 rows × 4 columns</p>\n",
       "</div>"
      ],
      "text/plain": [
       "       index                      time asset  \\\n",
       "0     CMBIBE 2021-12-10 05:00:00+00:00   btc   \n",
       "0     CMBIBE 2021-12-10 05:00:00+00:00   eth   \n",
       "1     CMBIBE 2021-12-10 06:00:00+00:00   btc   \n",
       "1     CMBIBE 2021-12-10 06:00:00+00:00   eth   \n",
       "2     CMBIBE 2021-12-10 07:00:00+00:00   btc   \n",
       "...      ...                       ...   ...   \n",
       "1437  CMBIBE 2021-12-10 02:00:00+00:00   eth   \n",
       "1438  CMBIBE 2021-12-10 03:00:00+00:00   btc   \n",
       "1438  CMBIBE 2021-12-10 03:00:00+00:00   eth   \n",
       "1439  CMBIBE 2021-12-10 04:00:00+00:00   btc   \n",
       "1439  CMBIBE 2021-12-10 04:00:00+00:00   eth   \n",
       "\n",
       "                                    weight  \n",
       "0     0.6019003008427091861036278894719671  \n",
       "0     0.3980996991572908138963721105280329  \n",
       "1     0.6024824818361156388958318806280792  \n",
       "1     0.3975175181638843611041681193719208  \n",
       "2     0.6028943998278839682800265830693469  \n",
       "...                                    ...  \n",
       "1437   0.398686770411601530814571632211283  \n",
       "1438  0.6013121929410849687202272381433167  \n",
       "1438  0.3986878070589150312797727618566833  \n",
       "1439  0.6019628225247178556033547774184495  \n",
       "1439  0.3980371774752821443966452225815505  \n",
       "\n",
       "[2880 rows x 4 columns]"
      ]
     },
     "execution_count": 20,
     "metadata": {},
     "output_type": "execute_result"
    }
   ],
   "source": [
    "df_index_constituents.explode(\n",
    "    'constituents'\n",
    ").assign(\n",
    "    asset=lambda df: _expand_df(\n",
    "        key=\"asset\", iterable=df.constituents\n",
    "    )\n",
    ").assign(\n",
    "    weight=lambda df: _expand_df(\n",
    "        key=\"weight\", iterable=df.constituents\n",
    "    )\n",
    ").drop(['constituents'], axis=1)"
   ]
  },
  {
   "cell_type": "code",
   "execution_count": 21,
   "id": "3cc74fc4-5d32-4150-a18f-0c9424d192dd",
   "metadata": {},
   "outputs": [],
   "source": [
    "df_index_constituents_exploded = df_index_constituents.explode(\n",
    "    'constituents'\n",
    ").assign(\n",
    "    asset=lambda df: _expand_df(\n",
    "        key=\"asset\", iterable=df.constituents\n",
    "    )\n",
    ").assign(\n",
    "    weight=lambda df: _expand_df(\n",
    "        key=\"weight\", iterable=df.constituents\n",
    "    )\n",
    ").drop(['constituents'], axis=1)\n",
    "\n",
    "df_index_joined = df_index_constituents[\n",
    "    ['index', 'time']\n",
    "].merge(\n",
    "    df_index_constituents_exploded, on=['index', 'time']\n",
    ").sort_values('time').reset_index(drop=True)\n",
    "df_index_joined['weight'] = df_index_joined['weight'].astype(float)"
   ]
  },
  {
   "cell_type": "code",
   "execution_count": 22,
   "id": "1c6beadd",
   "metadata": {},
   "outputs": [
    {
     "data": {
      "text/html": [
       "<div>\n",
       "<style scoped>\n",
       "    .dataframe tbody tr th:only-of-type {\n",
       "        vertical-align: middle;\n",
       "    }\n",
       "\n",
       "    .dataframe tbody tr th {\n",
       "        vertical-align: top;\n",
       "    }\n",
       "\n",
       "    .dataframe thead th {\n",
       "        text-align: right;\n",
       "    }\n",
       "</style>\n",
       "<table border=\"1\" class=\"dataframe\">\n",
       "  <thead>\n",
       "    <tr style=\"text-align: right;\">\n",
       "      <th></th>\n",
       "      <th>index</th>\n",
       "      <th>time</th>\n",
       "      <th>asset</th>\n",
       "      <th>weight</th>\n",
       "    </tr>\n",
       "  </thead>\n",
       "  <tbody>\n",
       "    <tr>\n",
       "      <th>0</th>\n",
       "      <td>CMBIBE</td>\n",
       "      <td>2021-11-21 21:00:00+00:00</td>\n",
       "      <td>eth</td>\n",
       "      <td>0.359206</td>\n",
       "    </tr>\n",
       "    <tr>\n",
       "      <th>1</th>\n",
       "      <td>CMBIBE</td>\n",
       "      <td>2021-11-21 21:00:00+00:00</td>\n",
       "      <td>btc</td>\n",
       "      <td>0.640794</td>\n",
       "    </tr>\n",
       "    <tr>\n",
       "      <th>2</th>\n",
       "      <td>CMBIBE</td>\n",
       "      <td>2021-11-21 22:00:00+00:00</td>\n",
       "      <td>btc</td>\n",
       "      <td>0.640693</td>\n",
       "    </tr>\n",
       "    <tr>\n",
       "      <th>3</th>\n",
       "      <td>CMBIBE</td>\n",
       "      <td>2021-11-21 22:00:00+00:00</td>\n",
       "      <td>eth</td>\n",
       "      <td>0.359307</td>\n",
       "    </tr>\n",
       "    <tr>\n",
       "      <th>4</th>\n",
       "      <td>CMBIBE</td>\n",
       "      <td>2021-11-21 23:00:00+00:00</td>\n",
       "      <td>btc</td>\n",
       "      <td>0.642066</td>\n",
       "    </tr>\n",
       "  </tbody>\n",
       "</table>\n",
       "</div>"
      ],
      "text/plain": [
       "    index                      time asset    weight\n",
       "0  CMBIBE 2021-11-21 21:00:00+00:00   eth  0.359206\n",
       "1  CMBIBE 2021-11-21 21:00:00+00:00   btc  0.640794\n",
       "2  CMBIBE 2021-11-21 22:00:00+00:00   btc  0.640693\n",
       "3  CMBIBE 2021-11-21 22:00:00+00:00   eth  0.359307\n",
       "4  CMBIBE 2021-11-21 23:00:00+00:00   btc  0.642066"
      ]
     },
     "execution_count": 22,
     "metadata": {},
     "output_type": "execute_result"
    }
   ],
   "source": [
    "df_index_joined.head()"
   ]
  },
  {
   "cell_type": "code",
   "execution_count": 23,
   "id": "ef8506b0",
   "metadata": {},
   "outputs": [
    {
     "name": "stdout",
     "output_type": "stream",
     "text": [
      "<class 'pandas.core.frame.DataFrame'>\n",
      "RangeIndex: 2880 entries, 0 to 2879\n",
      "Data columns (total 4 columns):\n",
      " #   Column  Non-Null Count  Dtype                  \n",
      "---  ------  --------------  -----                  \n",
      " 0   index   2880 non-null   string                 \n",
      " 1   time    2880 non-null   datetime64[ns, tzutc()]\n",
      " 2   asset   2880 non-null   object                 \n",
      " 3   weight  2880 non-null   float64                \n",
      "dtypes: datetime64[ns, tzutc()](1), float64(1), object(1), string(1)\n",
      "memory usage: 90.1+ KB\n"
     ]
    }
   ],
   "source": [
    "df_index_joined.info()"
   ]
  },
  {
   "cell_type": "code",
   "execution_count": 24,
   "id": "7a517b28-7777-4f99-a999-0941992ab60a",
   "metadata": {},
   "outputs": [],
   "source": [
    "df_index_weights = df_index_joined.pivot(index='time', columns='asset', values='weight').reset_index()"
   ]
  },
  {
   "cell_type": "code",
   "execution_count": 25,
   "id": "57d592d0-97f5-47f0-aa09-b4f08690183e",
   "metadata": {},
   "outputs": [
    {
     "data": {
      "text/html": [
       "<div>\n",
       "<style scoped>\n",
       "    .dataframe tbody tr th:only-of-type {\n",
       "        vertical-align: middle;\n",
       "    }\n",
       "\n",
       "    .dataframe tbody tr th {\n",
       "        vertical-align: top;\n",
       "    }\n",
       "\n",
       "    .dataframe thead th {\n",
       "        text-align: right;\n",
       "    }\n",
       "</style>\n",
       "<table border=\"1\" class=\"dataframe\">\n",
       "  <thead>\n",
       "    <tr style=\"text-align: right;\">\n",
       "      <th>asset</th>\n",
       "      <th>time</th>\n",
       "      <th>btc</th>\n",
       "      <th>eth</th>\n",
       "    </tr>\n",
       "  </thead>\n",
       "  <tbody>\n",
       "    <tr>\n",
       "      <th>0</th>\n",
       "      <td>2021-11-21 21:00:00+00:00</td>\n",
       "      <td>0.640794</td>\n",
       "      <td>0.359206</td>\n",
       "    </tr>\n",
       "    <tr>\n",
       "      <th>1</th>\n",
       "      <td>2021-11-21 22:00:00+00:00</td>\n",
       "      <td>0.640693</td>\n",
       "      <td>0.359307</td>\n",
       "    </tr>\n",
       "    <tr>\n",
       "      <th>2</th>\n",
       "      <td>2021-11-21 23:00:00+00:00</td>\n",
       "      <td>0.642066</td>\n",
       "      <td>0.357934</td>\n",
       "    </tr>\n",
       "    <tr>\n",
       "      <th>3</th>\n",
       "      <td>2021-11-22 00:00:00+00:00</td>\n",
       "      <td>0.642201</td>\n",
       "      <td>0.357799</td>\n",
       "    </tr>\n",
       "    <tr>\n",
       "      <th>4</th>\n",
       "      <td>2021-11-22 01:00:00+00:00</td>\n",
       "      <td>0.643252</td>\n",
       "      <td>0.356748</td>\n",
       "    </tr>\n",
       "  </tbody>\n",
       "</table>\n",
       "</div>"
      ],
      "text/plain": [
       "asset                      time       btc       eth\n",
       "0     2021-11-21 21:00:00+00:00  0.640794  0.359206\n",
       "1     2021-11-21 22:00:00+00:00  0.640693  0.359307\n",
       "2     2021-11-21 23:00:00+00:00  0.642066  0.357934\n",
       "3     2021-11-22 00:00:00+00:00  0.642201  0.357799\n",
       "4     2021-11-22 01:00:00+00:00  0.643252  0.356748"
      ]
     },
     "execution_count": 25,
     "metadata": {},
     "output_type": "execute_result"
    }
   ],
   "source": [
    "df_index_weights.head()"
   ]
  },
  {
   "cell_type": "code",
   "execution_count": 26,
   "id": "ecc25d86-943c-4c50-9a07-7541a79cb42b",
   "metadata": {},
   "outputs": [],
   "source": [
    "df_index_merged = df_index_levels.merge(df_index_weights, on='time')"
   ]
  },
  {
   "cell_type": "code",
   "execution_count": 27,
   "id": "86e9b9cc",
   "metadata": {},
   "outputs": [
    {
     "data": {
      "text/html": [
       "<div>\n",
       "<style scoped>\n",
       "    .dataframe tbody tr th:only-of-type {\n",
       "        vertical-align: middle;\n",
       "    }\n",
       "\n",
       "    .dataframe tbody tr th {\n",
       "        vertical-align: top;\n",
       "    }\n",
       "\n",
       "    .dataframe thead th {\n",
       "        text-align: right;\n",
       "    }\n",
       "</style>\n",
       "<table border=\"1\" class=\"dataframe\">\n",
       "  <thead>\n",
       "    <tr style=\"text-align: right;\">\n",
       "      <th></th>\n",
       "      <th>index</th>\n",
       "      <th>time</th>\n",
       "      <th>level</th>\n",
       "      <th>btc</th>\n",
       "      <th>eth</th>\n",
       "    </tr>\n",
       "  </thead>\n",
       "  <tbody>\n",
       "    <tr>\n",
       "      <th>0</th>\n",
       "      <td>CMBIBE</td>\n",
       "      <td>2021-11-22 00:00:00+00:00</td>\n",
       "      <td>31858.244957</td>\n",
       "      <td>0.642201</td>\n",
       "      <td>0.357799</td>\n",
       "    </tr>\n",
       "    <tr>\n",
       "      <th>1</th>\n",
       "      <td>CMBIBE</td>\n",
       "      <td>2021-11-23 00:00:00+00:00</td>\n",
       "      <td>30376.005546</td>\n",
       "      <td>0.643314</td>\n",
       "      <td>0.356686</td>\n",
       "    </tr>\n",
       "    <tr>\n",
       "      <th>2</th>\n",
       "      <td>CMBIBE</td>\n",
       "      <td>2021-11-24 00:00:00+00:00</td>\n",
       "      <td>31477.076232</td>\n",
       "      <td>0.634669</td>\n",
       "      <td>0.365331</td>\n",
       "    </tr>\n",
       "    <tr>\n",
       "      <th>3</th>\n",
       "      <td>CMBIBE</td>\n",
       "      <td>2021-11-25 00:00:00+00:00</td>\n",
       "      <td>31075.697893</td>\n",
       "      <td>0.637286</td>\n",
       "      <td>0.362714</td>\n",
       "    </tr>\n",
       "    <tr>\n",
       "      <th>4</th>\n",
       "      <td>CMBIBE</td>\n",
       "      <td>2021-11-26 00:00:00+00:00</td>\n",
       "      <td>32421.092533</td>\n",
       "      <td>0.630796</td>\n",
       "      <td>0.369204</td>\n",
       "    </tr>\n",
       "  </tbody>\n",
       "</table>\n",
       "</div>"
      ],
      "text/plain": [
       "    index                      time         level       btc       eth\n",
       "0  CMBIBE 2021-11-22 00:00:00+00:00  31858.244957  0.642201  0.357799\n",
       "1  CMBIBE 2021-11-23 00:00:00+00:00  30376.005546  0.643314  0.356686\n",
       "2  CMBIBE 2021-11-24 00:00:00+00:00  31477.076232  0.634669  0.365331\n",
       "3  CMBIBE 2021-11-25 00:00:00+00:00  31075.697893  0.637286  0.362714\n",
       "4  CMBIBE 2021-11-26 00:00:00+00:00  32421.092533  0.630796  0.369204"
      ]
     },
     "execution_count": 27,
     "metadata": {},
     "output_type": "execute_result"
    }
   ],
   "source": [
    "df_index_merged.head()"
   ]
  },
  {
   "cell_type": "code",
   "execution_count": 28,
   "id": "bbe438a1-7f36-4980-810a-b7afbf078a11",
   "metadata": {
    "scrolled": true
   },
   "outputs": [
    {
     "data": {
      "text/html": [
       "<div>\n",
       "<style scoped>\n",
       "    .dataframe tbody tr th:only-of-type {\n",
       "        vertical-align: middle;\n",
       "    }\n",
       "\n",
       "    .dataframe tbody tr th {\n",
       "        vertical-align: top;\n",
       "    }\n",
       "\n",
       "    .dataframe thead th {\n",
       "        text-align: right;\n",
       "    }\n",
       "</style>\n",
       "<table border=\"1\" class=\"dataframe\">\n",
       "  <thead>\n",
       "    <tr style=\"text-align: right;\">\n",
       "      <th></th>\n",
       "      <th>index</th>\n",
       "      <th>time</th>\n",
       "      <th>level</th>\n",
       "      <th>btc</th>\n",
       "      <th>eth</th>\n",
       "      <th>level_btc</th>\n",
       "      <th>level_eth</th>\n",
       "    </tr>\n",
       "  </thead>\n",
       "  <tbody>\n",
       "    <tr>\n",
       "      <th>0</th>\n",
       "      <td>CMBIBE</td>\n",
       "      <td>2021-11-22 00:00:00+00:00</td>\n",
       "      <td>31858.244957</td>\n",
       "      <td>0.642201</td>\n",
       "      <td>0.357799</td>\n",
       "      <td>20459.405137</td>\n",
       "      <td>11398.83982</td>\n",
       "    </tr>\n",
       "    <tr>\n",
       "      <th>1</th>\n",
       "      <td>CMBIBE</td>\n",
       "      <td>2021-11-23 00:00:00+00:00</td>\n",
       "      <td>30376.005546</td>\n",
       "      <td>0.643314</td>\n",
       "      <td>0.356686</td>\n",
       "      <td>19541.299999</td>\n",
       "      <td>10834.705547</td>\n",
       "    </tr>\n",
       "    <tr>\n",
       "      <th>2</th>\n",
       "      <td>CMBIBE</td>\n",
       "      <td>2021-11-24 00:00:00+00:00</td>\n",
       "      <td>31477.076232</td>\n",
       "      <td>0.634669</td>\n",
       "      <td>0.365331</td>\n",
       "      <td>19977.537623</td>\n",
       "      <td>11499.538609</td>\n",
       "    </tr>\n",
       "    <tr>\n",
       "      <th>3</th>\n",
       "      <td>CMBIBE</td>\n",
       "      <td>2021-11-25 00:00:00+00:00</td>\n",
       "      <td>31075.697893</td>\n",
       "      <td>0.637286</td>\n",
       "      <td>0.362714</td>\n",
       "      <td>19804.097747</td>\n",
       "      <td>11271.600146</td>\n",
       "    </tr>\n",
       "    <tr>\n",
       "      <th>4</th>\n",
       "      <td>CMBIBE</td>\n",
       "      <td>2021-11-26 00:00:00+00:00</td>\n",
       "      <td>32421.092533</td>\n",
       "      <td>0.630796</td>\n",
       "      <td>0.369204</td>\n",
       "      <td>20451.098141</td>\n",
       "      <td>11969.994392</td>\n",
       "    </tr>\n",
       "  </tbody>\n",
       "</table>\n",
       "</div>"
      ],
      "text/plain": [
       "    index                      time         level       btc       eth  \\\n",
       "0  CMBIBE 2021-11-22 00:00:00+00:00  31858.244957  0.642201  0.357799   \n",
       "1  CMBIBE 2021-11-23 00:00:00+00:00  30376.005546  0.643314  0.356686   \n",
       "2  CMBIBE 2021-11-24 00:00:00+00:00  31477.076232  0.634669  0.365331   \n",
       "3  CMBIBE 2021-11-25 00:00:00+00:00  31075.697893  0.637286  0.362714   \n",
       "4  CMBIBE 2021-11-26 00:00:00+00:00  32421.092533  0.630796  0.369204   \n",
       "\n",
       "      level_btc     level_eth  \n",
       "0  20459.405137   11398.83982  \n",
       "1  19541.299999  10834.705547  \n",
       "2  19977.537623  11499.538609  \n",
       "3  19804.097747  11271.600146  \n",
       "4  20451.098141  11969.994392  "
      ]
     },
     "execution_count": 28,
     "metadata": {},
     "output_type": "execute_result"
    }
   ],
   "source": [
    "df_index_merged['level_btc'] = df_index_merged['btc'] * df_index_merged['level']\n",
    "df_index_merged['level_eth'] = df_index_merged['eth'] * df_index_merged['level']\n",
    "df_index_merged.head()"
   ]
  },
  {
   "cell_type": "markdown",
   "id": "d8ab4ce8-48ee-4c7e-858d-93e58c7a799c",
   "metadata": {},
   "source": [
    "We can then analyze an index constituents' weight over time, as well as compare the contributions from each constituent."
   ]
  },
  {
   "cell_type": "code",
   "execution_count": 29,
   "id": "6a59b348-db27-4a08-9088-094da25cb696",
   "metadata": {},
   "outputs": [
    {
     "data": {
      "text/plain": [
       "<AxesSubplot:xlabel='time', ylabel='weight'>"
      ]
     },
     "execution_count": 29,
     "metadata": {},
     "output_type": "execute_result"
    },
    {
     "data": {
      "image/png": "[encoded data removed]",
      "text/plain": [
       "<Figure size 864x576 with 1 Axes>"
      ]
     },
     "metadata": {},
     "output_type": "display_data"
    }
   ],
   "source": [
    "sns.lineplot(data=df_index_joined, x='time', y='weight', hue='asset')"
   ]
  },
  {
   "cell_type": "code",
   "execution_count": 30,
   "id": "b3c5f95d-480e-4860-863c-60bdb1319406",
   "metadata": {},
   "outputs": [],
   "source": [
    "df_index_melted = pd.melt(df_index_merged, id_vars='time', value_vars=['level', 'level_btc', 'level_eth'])\n",
    "df_index_melted['variable'] = df_index_melted['variable'].map({'level': 'total', 'level_eth': 'eth', 'level_btc': 'btc'})"
   ]
  },
  {
   "cell_type": "code",
   "execution_count": 31,
   "id": "18b649a4-29a1-4a4b-bea8-2dcfd49905d8",
   "metadata": {},
   "outputs": [
    {
     "data": {
      "text/plain": [
       "<AxesSubplot:xlabel='time', ylabel='value'>"
      ]
     },
     "execution_count": 31,
     "metadata": {},
     "output_type": "execute_result"
    },
    {
     "data": {
      "image/png": "[encoded data removed]",
      "text/plain": [
       "<Figure size 864x576 with 1 Axes>"
      ]
     },
     "metadata": {},
     "output_type": "display_data"
    }
   ],
   "source": [
    "sns.lineplot(data=df_index_melted, x='time', y='value', hue='variable')\n"
   ]
  },
  {
   "cell_type": "markdown",
   "id": "872536d5-c273-4203-b77d-2e1e918817d3",
   "metadata": {
    "tags": []
   },
   "source": [
    "## Examples from State of the Network\n",
    "\n",
    "The Python API Client is often used for transforming data for [State of the Network](https://coinmetrics.substack.com/). Below are some examples of data transformations done to produce the data visualizations."
   ]
  },
  {
   "cell_type": "markdown",
   "id": "805a0d0a-b258-4ce0-aa04-6c641f4762c6",
   "metadata": {
    "tags": []
   },
   "source": [
    "### Example 1: Get returns by coin in the CM reference rates universe over the last 10-years\n",
    "In [State of the Network #128](https://coinmetrics.substack.com/p/coin-metrics-state-of-the-network-53b), we looked at the returns for each asset dating back the last 10 years.\n",
    "\n",
    "![returns-10-yr](https://cdn.substack.com/image/fetch/f_auto,q_auto:good,fl_progressive:steep/https%3A%2F%2Fbucketeer-e05bbc84-baa3-437e-9518-adb32be77984.s3.amazonaws.com%2Fpublic%2Fimages%2F38b38adb-c4b7-43f6-a387-0cbae028861a_985x525.png)"
   ]
  },
  {
   "cell_type": "markdown",
   "id": "91a28e6b-4261-41da-9ca6-ccd83ccb9b54",
   "metadata": {},
   "source": [
    "We can generate this data by weaving in the `catalog_metrics` and `get_asset_metrics` endpoint. The code snippets below demonstrate how to do this with a small list of assets. "
   ]
  },
  {
   "cell_type": "code",
   "execution_count": 32,
   "id": "57d4bd06-1063-4346-8ccd-e43133e0bfd7",
   "metadata": {},
   "outputs": [
    {
     "name": "stderr",
     "output_type": "stream",
     "text": [
      "2022-01-20 14:49:15 INFO     Getting prices...\n",
      "2022-01-20 14:49:25 INFO     Calculating Reference rate for ada....\n",
      "2022-01-20 14:49:25 INFO     Calculating Reference rate for bnb....\n",
      "2022-01-20 14:49:25 INFO     Calculating Reference rate for btc....\n",
      "2022-01-20 14:49:25 INFO     Calculating Reference rate for doge....\n",
      "2022-01-20 14:49:25 INFO     Calculating Reference rate for eth....\n",
      "2022-01-20 14:49:25 INFO     Calculating Reference rate for xrp....\n"
     ]
    }
   ],
   "source": [
    "\n",
    "# Get all assets that have a reference rate \n",
    "assets_refrate = client.catalog_metrics(\"ReferenceRateUSD\")\n",
    "# Get list of assets with daily ref rate \n",
    "# uncomment the top line to look at *every* asset with reference rates\n",
    "# asset_with_ref_rates = assets_refrate[0][\"frequencies\"][0][\"assets\"]\n",
    "asset_with_ref_rates = ['btc', 'eth', 'bnb', 'ada', 'doge', 'xrp']\n",
    "#Query API for prices, daily CM reference rates as dataframe\n",
    "metrics = \"ReferenceRateUSD\"\n",
    "frequency = \"1d\"\n",
    "start_time = \"2011-11-08\"\n",
    "end_time = \"2021-11-08\"\n",
    "\n",
    "logging.info(\"Getting prices...\")\n",
    "df_prices = client.get_asset_metrics(\n",
    "    assets=asset_with_ref_rates,\n",
    "    metrics=metrics,\n",
    "    frequency=frequency,\n",
    "    start_time=start_time,\n",
    "    end_time=end_time\n",
    ").to_dataframe()\n",
    "# Assign datatypes\n",
    "df_prices[\"time\"] = pd.to_datetime(df_prices.time)\n",
    "df_prices[\"ReferenceRateUSD\"] = df_prices.ReferenceRateUSD.astype(float)\n",
    "\n",
    "# Reshape dataset so assets are in columns, dates are the rows, and the values are prices\n",
    "df_prices_pivot = df_prices.pivot(\n",
    "    index=\"time\",\n",
    "    columns=\"asset\",\n",
    "    values=\"ReferenceRateUSD\"\n",
    ")\n",
    "\n",
    "# Index each asset's time series to 1 \n",
    "for col in df_prices_pivot.columns:\n",
    "    logging.info(f\"Calculating Reference rate for {col}....\")\n",
    "    # First price in time series\n",
    "    first_price = df_prices_pivot[df_prices_pivot[col].notnull()][col].iloc[0]\n",
    "    # Index time series\n",
    "    df_prices_pivot[col] = df_prices_pivot[col]/first_price\n",
    "    # Fill forward for Null values\n",
    "    df_prices_pivot[col] = df_prices_pivot[col].ffill()"
   ]
  },
  {
   "cell_type": "code",
   "execution_count": 33,
   "id": "9652af25-6cd7-4369-b1d8-d38ac0e99c2b",
   "metadata": {},
   "outputs": [
    {
     "data": {
      "text/html": [
       "<div>\n",
       "<style scoped>\n",
       "    .dataframe tbody tr th:only-of-type {\n",
       "        vertical-align: middle;\n",
       "    }\n",
       "\n",
       "    .dataframe tbody tr th {\n",
       "        vertical-align: top;\n",
       "    }\n",
       "\n",
       "    .dataframe thead th {\n",
       "        text-align: right;\n",
       "    }\n",
       "</style>\n",
       "<table border=\"1\" class=\"dataframe\">\n",
       "  <thead>\n",
       "    <tr style=\"text-align: right;\">\n",
       "      <th>asset</th>\n",
       "      <th>ada</th>\n",
       "      <th>bnb</th>\n",
       "      <th>btc</th>\n",
       "      <th>doge</th>\n",
       "      <th>eth</th>\n",
       "      <th>xrp</th>\n",
       "    </tr>\n",
       "    <tr>\n",
       "      <th>time</th>\n",
       "      <th></th>\n",
       "      <th></th>\n",
       "      <th></th>\n",
       "      <th></th>\n",
       "      <th></th>\n",
       "      <th></th>\n",
       "    </tr>\n",
       "  </thead>\n",
       "  <tbody>\n",
       "    <tr>\n",
       "      <th>2021-11-04 00:00:00+00:00</th>\n",
       "      <td>15.873724</td>\n",
       "      <td>7399.530246</td>\n",
       "      <td>20861.841236</td>\n",
       "      <td>174.621428</td>\n",
       "      <td>3832.408711</td>\n",
       "      <td>215.715393</td>\n",
       "    </tr>\n",
       "    <tr>\n",
       "      <th>2021-11-05 00:00:00+00:00</th>\n",
       "      <td>15.272089</td>\n",
       "      <td>7281.688268</td>\n",
       "      <td>20344.207965</td>\n",
       "      <td>170.562781</td>\n",
       "      <td>3779.699701</td>\n",
       "      <td>214.148949</td>\n",
       "    </tr>\n",
       "    <tr>\n",
       "      <th>2021-11-06 00:00:00+00:00</th>\n",
       "      <td>15.217889</td>\n",
       "      <td>7896.540025</td>\n",
       "      <td>20215.619395</td>\n",
       "      <td>169.160131</td>\n",
       "      <td>3730.778851</td>\n",
       "      <td>207.056617</td>\n",
       "    </tr>\n",
       "    <tr>\n",
       "      <th>2021-11-07 00:00:00+00:00</th>\n",
       "      <td>15.416958</td>\n",
       "      <td>8264.884998</td>\n",
       "      <td>20364.475877</td>\n",
       "      <td>169.947035</td>\n",
       "      <td>3759.733466</td>\n",
       "      <td>205.426072</td>\n",
       "    </tr>\n",
       "    <tr>\n",
       "      <th>2021-11-08 00:00:00+00:00</th>\n",
       "      <td>15.540748</td>\n",
       "      <td>8444.898474</td>\n",
       "      <td>20890.951359</td>\n",
       "      <td>172.724650</td>\n",
       "      <td>3841.107919</td>\n",
       "      <td>217.333231</td>\n",
       "    </tr>\n",
       "  </tbody>\n",
       "</table>\n",
       "</div>"
      ],
      "text/plain": [
       "asset                            ada          bnb           btc        doge  \\\n",
       "time                                                                          \n",
       "2021-11-04 00:00:00+00:00  15.873724  7399.530246  20861.841236  174.621428   \n",
       "2021-11-05 00:00:00+00:00  15.272089  7281.688268  20344.207965  170.562781   \n",
       "2021-11-06 00:00:00+00:00  15.217889  7896.540025  20215.619395  169.160131   \n",
       "2021-11-07 00:00:00+00:00  15.416958  8264.884998  20364.475877  169.947035   \n",
       "2021-11-08 00:00:00+00:00  15.540748  8444.898474  20890.951359  172.724650   \n",
       "\n",
       "asset                              eth         xrp  \n",
       "time                                                \n",
       "2021-11-04 00:00:00+00:00  3832.408711  215.715393  \n",
       "2021-11-05 00:00:00+00:00  3779.699701  214.148949  \n",
       "2021-11-06 00:00:00+00:00  3730.778851  207.056617  \n",
       "2021-11-07 00:00:00+00:00  3759.733466  205.426072  \n",
       "2021-11-08 00:00:00+00:00  3841.107919  217.333231  "
      ]
     },
     "execution_count": 33,
     "metadata": {},
     "output_type": "execute_result"
    }
   ],
   "source": [
    "df_prices_pivot.tail()"
   ]
  },
  {
   "cell_type": "markdown",
   "id": "8241928e-e098-41da-8950-2e4c0c9539a2",
   "metadata": {},
   "source": [
    "### Example 2: Get daily spot trading volume on coinbase for all markets\n",
    "\n",
    "In [State of the Network #126](https://coinmetrics.substack.com/p/coin-metrics-state-of-the-network-issue-126), we looked at spot volume on trusted exchanges over time.\n",
    "\n",
    "![vol-over-time](https://cdn.substack.com/image/fetch/f_auto,q_auto:good,fl_progressive:steep/https%3A%2F%2Fbucketeer-e05bbc84-baa3-437e-9518-adb32be77984.s3.amazonaws.com%2Fpublic%2Fimages%2F011acfa6-6b3e-4c51-bbc8-d0354235e005_1200x709.png)"
   ]
  },
  {
   "cell_type": "markdown",
   "id": "513ef277-cea9-451b-ac54-e23002d88d23",
   "metadata": {},
   "source": [
    "We can replicate similar data behind chart using just coinbase spot markets at 2021. Here, we derive volume from our `get_market_candles` endpoint."
   ]
  },
  {
   "cell_type": "code",
   "execution_count": 34,
   "id": "a7c0cbfc-ae7f-4271-9604-ee4c6567a22c",
   "metadata": {},
   "outputs": [],
   "source": [
    "candles_coinbase = client.get_market_candles(\n",
    "    markets=\"coinbase-*-spot\", # wildcards can be passed to get all asset pairs\n",
    "    start_time=\"2021-01-01\",\n",
    "    end_time=\"2021-10-29\",\n",
    "    frequency=\"1d\"\n",
    ").to_dataframe()\n",
    "candles_coinbase[\"candle_usd_volume\"] = candles_coinbase.candle_usd_volume.astype(float)\n",
    "candles_coinbase[\"time\"] = pd.to_datetime(candles_coinbase.time)"
   ]
  },
  {
   "cell_type": "code",
   "execution_count": 35,
   "id": "3ffd172e-9768-4332-bf54-d1adc49cfc79",
   "metadata": {},
   "outputs": [
    {
     "data": {
      "text/html": [
       "<div>\n",
       "<style scoped>\n",
       "    .dataframe tbody tr th:only-of-type {\n",
       "        vertical-align: middle;\n",
       "    }\n",
       "\n",
       "    .dataframe tbody tr th {\n",
       "        vertical-align: top;\n",
       "    }\n",
       "\n",
       "    .dataframe thead th {\n",
       "        text-align: right;\n",
       "    }\n",
       "</style>\n",
       "<table border=\"1\" class=\"dataframe\">\n",
       "  <thead>\n",
       "    <tr style=\"text-align: right;\">\n",
       "      <th></th>\n",
       "      <th>market</th>\n",
       "      <th>time</th>\n",
       "      <th>price_open</th>\n",
       "      <th>price_close</th>\n",
       "      <th>price_high</th>\n",
       "      <th>price_low</th>\n",
       "      <th>vwap</th>\n",
       "      <th>volume</th>\n",
       "      <th>candle_usd_volume</th>\n",
       "      <th>candle_trades_count</th>\n",
       "    </tr>\n",
       "  </thead>\n",
       "  <tbody>\n",
       "    <tr>\n",
       "      <th>0</th>\n",
       "      <td>coinbase-zen-btc-spot</td>\n",
       "      <td>2021-10-21 00:00:00+00:00</td>\n",
       "      <td>0.001254</td>\n",
       "      <td>0.001384</td>\n",
       "      <td>0.001384</td>\n",
       "      <td>0.001254</td>\n",
       "      <td>0.001314</td>\n",
       "      <td>2249.215</td>\n",
       "      <td>190959.982247</td>\n",
       "      <td>722</td>\n",
       "    </tr>\n",
       "    <tr>\n",
       "      <th>1</th>\n",
       "      <td>coinbase-zen-btc-spot</td>\n",
       "      <td>2021-10-22 00:00:00+00:00</td>\n",
       "      <td>0.001387</td>\n",
       "      <td>0.001439</td>\n",
       "      <td>0.001439</td>\n",
       "      <td>0.001358</td>\n",
       "      <td>0.001402</td>\n",
       "      <td>2182.331</td>\n",
       "      <td>187283.856132</td>\n",
       "      <td>605</td>\n",
       "    </tr>\n",
       "    <tr>\n",
       "      <th>2</th>\n",
       "      <td>coinbase-zen-btc-spot</td>\n",
       "      <td>2021-10-23 00:00:00+00:00</td>\n",
       "      <td>0.001439</td>\n",
       "      <td>0.001455</td>\n",
       "      <td>0.001496</td>\n",
       "      <td>0.001427</td>\n",
       "      <td>0.001461</td>\n",
       "      <td>765.643</td>\n",
       "      <td>68252.081037</td>\n",
       "      <td>402</td>\n",
       "    </tr>\n",
       "    <tr>\n",
       "      <th>3</th>\n",
       "      <td>coinbase-zen-btc-spot</td>\n",
       "      <td>2021-10-24 00:00:00+00:00</td>\n",
       "      <td>0.001455</td>\n",
       "      <td>0.001503</td>\n",
       "      <td>0.001551</td>\n",
       "      <td>0.001449</td>\n",
       "      <td>0.00152</td>\n",
       "      <td>587.285</td>\n",
       "      <td>54094.822641</td>\n",
       "      <td>438</td>\n",
       "    </tr>\n",
       "    <tr>\n",
       "      <th>4</th>\n",
       "      <td>coinbase-zen-btc-spot</td>\n",
       "      <td>2021-10-25 00:00:00+00:00</td>\n",
       "      <td>0.001503</td>\n",
       "      <td>0.001421</td>\n",
       "      <td>0.001535</td>\n",
       "      <td>0.001401</td>\n",
       "      <td>0.001471</td>\n",
       "      <td>782.09</td>\n",
       "      <td>71396.663073</td>\n",
       "      <td>402</td>\n",
       "    </tr>\n",
       "  </tbody>\n",
       "</table>\n",
       "</div>"
      ],
      "text/plain": [
       "                  market                      time  price_open  price_close  \\\n",
       "0  coinbase-zen-btc-spot 2021-10-21 00:00:00+00:00    0.001254     0.001384   \n",
       "1  coinbase-zen-btc-spot 2021-10-22 00:00:00+00:00    0.001387     0.001439   \n",
       "2  coinbase-zen-btc-spot 2021-10-23 00:00:00+00:00    0.001439     0.001455   \n",
       "3  coinbase-zen-btc-spot 2021-10-24 00:00:00+00:00    0.001455     0.001503   \n",
       "4  coinbase-zen-btc-spot 2021-10-25 00:00:00+00:00    0.001503     0.001421   \n",
       "\n",
       "   price_high  price_low      vwap    volume  candle_usd_volume  \\\n",
       "0    0.001384   0.001254  0.001314  2249.215      190959.982247   \n",
       "1    0.001439   0.001358  0.001402  2182.331      187283.856132   \n",
       "2    0.001496   0.001427  0.001461   765.643       68252.081037   \n",
       "3    0.001551   0.001449   0.00152   587.285       54094.822641   \n",
       "4    0.001535   0.001401  0.001471    782.09       71396.663073   \n",
       "\n",
       "   candle_trades_count  \n",
       "0                  722  \n",
       "1                  605  \n",
       "2                  402  \n",
       "3                  438  \n",
       "4                  402  "
      ]
     },
     "execution_count": 35,
     "metadata": {},
     "output_type": "execute_result"
    }
   ],
   "source": [
    "candles_coinbase.head()"
   ]
  },
  {
   "cell_type": "markdown",
   "id": "ae25437f-e1e9-4ff8-bdb8-5e438802a4be",
   "metadata": {},
   "source": [
    "We can also break this down by month. Note that for this example, the volume numbers will look smaller because we are using fewer exchanges.\n",
    "\n",
    "![vol-by-month](https://cdn.substack.com/image/fetch/f_auto,q_auto:good,fl_progressive:steep/https%3A%2F%2Fbucketeer-e05bbc84-baa3-437e-9518-adb32be77984.s3.amazonaws.com%2Fpublic%2Fimages%2Fdd12c9e3-9728-478b-b8aa-7136f2aaae10_985x525.png)"
   ]
  },
  {
   "cell_type": "code",
   "execution_count": 36,
   "id": "53228595-5b25-40f4-8221-20808a3cef86",
   "metadata": {},
   "outputs": [
    {
     "data": {
      "text/html": [
       "<div>\n",
       "<style scoped>\n",
       "    .dataframe tbody tr th:only-of-type {\n",
       "        vertical-align: middle;\n",
       "    }\n",
       "\n",
       "    .dataframe tbody tr th {\n",
       "        vertical-align: top;\n",
       "    }\n",
       "\n",
       "    .dataframe thead th {\n",
       "        text-align: right;\n",
       "    }\n",
       "</style>\n",
       "<table border=\"1\" class=\"dataframe\">\n",
       "  <thead>\n",
       "    <tr style=\"text-align: right;\">\n",
       "      <th></th>\n",
       "      <th>candle_usd_volume</th>\n",
       "    </tr>\n",
       "    <tr>\n",
       "      <th>time</th>\n",
       "      <th></th>\n",
       "    </tr>\n",
       "  </thead>\n",
       "  <tbody>\n",
       "    <tr>\n",
       "      <th>January</th>\n",
       "      <td>1.147053e+11</td>\n",
       "    </tr>\n",
       "    <tr>\n",
       "      <th>February</th>\n",
       "      <td>1.262543e+11</td>\n",
       "    </tr>\n",
       "    <tr>\n",
       "      <th>March</th>\n",
       "      <td>9.100767e+10</td>\n",
       "    </tr>\n",
       "    <tr>\n",
       "      <th>April</th>\n",
       "      <td>1.135328e+11</td>\n",
       "    </tr>\n",
       "    <tr>\n",
       "      <th>May</th>\n",
       "      <td>2.543443e+11</td>\n",
       "    </tr>\n",
       "    <tr>\n",
       "      <th>June</th>\n",
       "      <td>8.873852e+10</td>\n",
       "    </tr>\n",
       "    <tr>\n",
       "      <th>July</th>\n",
       "      <td>5.702550e+10</td>\n",
       "    </tr>\n",
       "    <tr>\n",
       "      <th>August</th>\n",
       "      <td>1.137132e+11</td>\n",
       "    </tr>\n",
       "    <tr>\n",
       "      <th>September</th>\n",
       "      <td>1.559313e+11</td>\n",
       "    </tr>\n",
       "    <tr>\n",
       "      <th>October</th>\n",
       "      <td>1.678279e+11</td>\n",
       "    </tr>\n",
       "  </tbody>\n",
       "</table>\n",
       "</div>"
      ],
      "text/plain": [
       "           candle_usd_volume\n",
       "time                        \n",
       "January         1.147053e+11\n",
       "February        1.262543e+11\n",
       "March           9.100767e+10\n",
       "April           1.135328e+11\n",
       "May             2.543443e+11\n",
       "June            8.873852e+10\n",
       "July            5.702550e+10\n",
       "August          1.137132e+11\n",
       "September       1.559313e+11\n",
       "October         1.678279e+11"
      ]
     },
     "execution_count": 36,
     "metadata": {},
     "output_type": "execute_result"
    }
   ],
   "source": [
    "month_order = [\n",
    "    'January', 'February', 'March', 'April', 'May', 'June', \n",
    "    'July', 'August', 'September', 'October', 'November', 'December'\n",
    "]\n",
    "\n",
    "\n",
    "candles_coinbase.groupby(\n",
    "    candles_coinbase.time.dt.month_name()\n",
    ")[['candle_usd_volume']].sum().reindex(month_order).dropna()"
   ]
  },
  {
   "cell_type": "code",
   "execution_count": null,
   "id": "591f1e67-3535-4e6a-96c0-1e4519a23046",
   "metadata": {},
   "outputs": [],
   "source": []
  }
 ],
 "metadata": {
  "kernelspec": {
   "display_name": "Python 3 (ipykernel)",
   "language": "python",
   "name": "python3"
  },
  "language_info": {
   "codemirror_mode": {
    "name": "ipython",
    "version": 3
   },
   "file_extension": ".py",
   "mimetype": "text/x-python",
   "name": "python",
   "nbconvert_exporter": "python",
   "pygments_lexer": "ipython3",
   "version": "3.8.11"
  }
 },
 "nbformat": 4,
 "nbformat_minor": 5
}
