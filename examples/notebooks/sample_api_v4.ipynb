{
 "cells": [
  {
   "cell_type": "markdown",
   "id": "15ec467d",
   "metadata": {},
   "source": [
    "# Coin Metrics API Example Endpoint Uses\n",
    "\n",
    "Coin Metrics offers a broad suite of data related to crypto, crypto markets, and crypto networks. This data is all available via the Coin Metrics API, which is accessible through a Python client. This notebook provides examples of how to use each endpoint available through the API. You can find full documentation and workflow demos in the Resources section below."
   ]
  },
  {
   "cell_type": "markdown",
   "id": "03267d7b",
   "metadata": {},
   "source": [
    "## Resources"
   ]
  },
  {
   "cell_type": "markdown",
   "id": "49895055",
   "metadata": {},
   "source": [
    "* The [Coin Metrics Python API Client library](https://coinmetrics.github.io/api-client-python/site/index.html) includes information on the Python API Client.\n",
    "* The [Coin Metrics API v4](https://docs.coinmetrics.io/api/v4) website contains the full set of endpoints and data offered by Coin Metrics.\n",
    "* The [API Spec](https://coinmetrics.github.io/api-client-python/site/api_client.html) contains a full list of functions, documentation, and the syntax for the Python API client.\n",
    "* The [Coin Metrics Data Encyclopedia](https://docs.coinmetrics.io/) gives detailed, conceptual explanations of the data and metrics that Coin Metrics offers.\n",
    "* [Exploring Crypto Data Using the Coin Metrics Python API Client](https://gitlab.com/coinmetrics/data-delivery/api-client-python/-/blob/master/examples/notebooks/walkthrough_community_python_event.ipynb) is a jupyter notebook walkthrough of how to use the Coin Metrics API in data projects."
   ]
  },
  {
   "cell_type": "markdown",
   "id": "9cf0f3fe",
   "metadata": {},
   "source": [
    "## Coin Metrics Research"
   ]
  },
  {
   "cell_type": "markdown",
   "id": "8c346a1e",
   "metadata": {},
   "source": [
    "* [Coin Metrics State of the Network](https://coinmetrics.substack.com/), our weekly data-driven newsletter highlighting on-chain (network) data\n",
    "* [Coin Metrics State of the Market](https://coinmetrics.io/insights/state-of-the-market/), weekly report contextualizing the week’s crypto market movement\n",
    "* [Other Original Research](https://coinmetrics.io/insights/original-research/) and Long-form Reports"
   ]
  },
  {
   "cell_type": "markdown",
   "id": "7cab767f",
   "metadata": {},
   "source": [
    "##  Setup"
   ]
  },
  {
   "cell_type": "code",
   "execution_count": null,
   "id": "51d89bdf",
   "metadata": {},
   "outputs": [],
   "source": [
    "import datetime\n",
    "from os import environ\n",
    "import logging\n",
    "import orjson\n",
    "\n",
    "import numpy as np\n",
    "import pandas as pd\n",
    "\n",
    "from datatools.data import get_api_key_from_resources, read_submodule_file\n",
    "from coinmetrics.api_client import CoinMetricsClient, CmStream"
   ]
  },
  {
   "cell_type": "code",
   "execution_count": null,
   "id": "3c2bda34",
   "metadata": {
    "lines_to_next_cell": 2
   },
   "outputs": [],
   "source": [
    "# Pull API key from environemnt\n",
    "try:\n",
    "    api_key = environ[\"CM_API_KEY\"]\n",
    "    logging.info(\"Using API key found in environment\")\n",
    "except KeyError:\n",
    "    api_key = \"\"\n",
    "    logging.info(\"API key not found. Using community client\")\n",
    "\n",
    "# Instantiate client\n",
    "client = CoinMetricsClient(api_key)"
   ]
  },
  {
   "cell_type": "markdown",
   "id": "a4a1828a",
   "metadata": {},
   "source": [
    "## Endpoints"
   ]
  },
  {
   "cell_type": "markdown",
   "id": "e15c7d77",
   "metadata": {},
   "source": [
    "### Catalog\n",
    "\n",
    "The catalog endpoints will query metadata about the dimension specified in the endpoint. For example, to find the metadata related to a given asset or group of assets, the catalog_assets() API call will be useful. Examples for each catalog endpoint are given below."
   ]
  },
  {
   "cell_type": "code",
   "execution_count": null,
   "id": "69ca0c4e",
   "metadata": {},
   "outputs": [],
   "source": [
    "catalog_assets = client.catalog_assets(assets=[\"BTC\"])\n",
    "\n",
    "catalog_metrics = client.catalog_metrics(metrics=[\"ReferenceRateUSD\"],\n",
    "                                         reviewable=False)\n",
    "\n",
    "catalog_pairs = client.catalog_asset_pairs(asset_pairs=['btc-eth'])\n",
    "\n",
    "catalog_exchange_assets = client.catalog_exchange_assets(exchange_assets=[\"bibox-1inch\"])\n",
    "\n",
    "catalog_institutions = client.catalog_institutions(institutions=\"grayscale\")\n",
    "\n",
    "catalog_exchanges = client.catalog_exchanges(exchanges=\"binance\")\n",
    "\n",
    "# Catalog Markets - Syntax is rather specific here\n",
    "catalog_markets = client.catalog_markets(markets=[\"binance-BTCUSDT-future\"])\n",
    "\n",
    "catalog_markets = client.catalog_markets(market_type=\"future\",\n",
    "                                         exchange=\"binance\",\n",
    "                                         symbol=\"BTCUSDT\")\n",
    "\n",
    "catalog_markets = client.catalog_markets(market_type=\"spot\",\n",
    "                                         exchange=\"binance\",\n",
    "                                         base='btc',\n",
    "                                         quote='usdt')\n",
    "\n",
    "catalog_market_metrics = client.catalog_market_metrics(markets=[\"binance-BTCUSDT-future\"])\n",
    "\n",
    "catalog_market_candles = client.catalog_market_candles(markets=\"ftx-btc-usdt-spot\")\n",
    "\n",
    "catalog_asset_alerts = client.catalog_asset_alerts([\"btc\"])\n",
    "\n",
    "catalog_indexes = client.catalog_indexes(indexes=\"CMBI10\")"
   ]
  },
  {
   "cell_type": "markdown",
   "id": "88cbdda9",
   "metadata": {},
   "source": [
    "### Full Catalog\n",
    "\n",
    "The catalog endpoints above will only return metadata for queries reachable with the specified API key priviledges. To see the full catalog, including inaccessible data, use the full catalog endpoints."
   ]
  },
  {
   "cell_type": "code",
   "execution_count": null,
   "id": "25c24610",
   "metadata": {},
   "outputs": [],
   "source": [
    "catalog_full_all = client.catalog_full_assets(assets=['btc'])\n",
    "\n",
    "catalog_full_asset_pairs = client.catalog_full_asset_pairs(['btc-usdt'])\n",
    "\n",
    "catalog_full_metrics = client.catalog_full_metrics(metrics=['TxCnt'])\n",
    "\n",
    "catalog_full_exchange_assets = client.catalog_full_exchange_assets(exchange_assets=['binance.us-btc'])\n",
    "\n",
    "catalog_full_institutions = client.catalog_full_institutions(institutions=\"grayscale\")\n",
    "\n",
    "catalog_full_exchanges = client.catalog_full_exchanges(exchanges=[\"bitfinex\"])\n",
    "\n",
    "catalog_full_markets = client.catalog_full_markets(markets=[\"binance.us-btc-usdt-spot\"])\n",
    "\n",
    "catalog_full_markets = client.catalog_full_markets(market_type=\"future\",\n",
    "                                                   exchange=\"binance\",\n",
    "                                                   symbol=\"BTCUSDT\")\n",
    "\n",
    "catalog_full_markets = client.catalog_full_markets(market_type=\"spot\",\n",
    "                                                   exchange=\"binance\",\n",
    "                                                   base='btc',\n",
    "                                                   quote='usdt')\n",
    "\n",
    "catalog_full_market_metrics = client.catalog_full_market_metrics(markets=\"binance-BTCUSDT-future\")\n",
    "\n",
    "catalog_full_market_candles = client.catalog_full_market_candles(markets=\"ftx-btc-usdt-spot\")\n",
    "\n",
    "catalog_full_asset_alerts = client.catalog_full_asset_alerts([\"btc\"])\n",
    "\n",
    "catalog_full_indexes = client.catalog_full_indexes(indexes=[\"CMBI10\"])"
   ]
  },
  {
   "cell_type": "markdown",
   "id": "2fbe263d",
   "metadata": {},
   "source": [
    "### Metrics\n",
    "\n",
    "The catalog helps us see what data is availble to query, but it is now time to get the timeseries data. Timeseries metric data can be queried in the following ways, specifying by assets, pairs, exchanges, and exchange assets. The time frame and frequency can also be specified."
   ]
  },
  {
   "cell_type": "code",
   "execution_count": null,
   "id": "71e9f2b6",
   "metadata": {},
   "outputs": [],
   "source": [
    "asset_metrics = client.get_asset_metrics(assets=[\"BTC\"],\n",
    "                                         metrics=[\"ReferenceRateUSD\"],\n",
    "                                         start_time=\"2021-01-01\",\n",
    "                                         end_time=\"2022-02-16\",\n",
    "                                         frequency=\"1d\",).to_dataframe()\n",
    "\n",
    "pair_metrics = client.get_pair_metrics(pairs=[\"btc-usdt\"],\n",
    "                                       metrics=[\"open_interest_reported_future_perpetual_usd\",\n",
    "                                                \"volume_reported_future_perpetual_usd_1d\"],\n",
    "                                       start_time='2022-01-01',\n",
    "                                       end_time='2022-01-10').to_dataframe()\n",
    "\n",
    "exchange_metrics = client.get_exchange_metrics(exchanges=[\"binance\"],\n",
    "                                               metrics=[\"open_interest_reported_future_perpetual_usd\",\n",
    "                                                        \"volume_reported_future_perpetual_usd_1d\"],\n",
    "                                               start_time='2022-01-01',\n",
    "                                               end_time='2022-01-10').to_dataframe()\n",
    "\n",
    "exchange_asset_metrics = client.get_exchange_asset_metrics(exchange_assets=[\"ftx-sol\"],\n",
    "                                                           metrics=[\"volume_reported_future_usd_1d\"],\n",
    "                                                           start_time='2022-01-01',\n",
    "                                                           end_time='2022-01-10').to_dataframe()"
   ]
  },
  {
   "cell_type": "markdown",
   "id": "9f7338dc",
   "metadata": {},
   "source": [
    "### Markets\n",
    "\n",
    "Market data can also be queried in a similar way. Below are the standard market data timeseries endpoints."
   ]
  },
  {
   "cell_type": "code",
   "execution_count": null,
   "id": "3d03ad4d",
   "metadata": {},
   "outputs": [],
   "source": [
    "market_trades = client.get_market_trades(markets=['coinbase-btc-usd-spot'],\n",
    "                                         start_time='2020-01-01',\n",
    "                                         end_time='2020-01-03',\n",
    "                                         limit_per_market=10).to_dataframe()\n",
    "\n",
    "market_open_interest = client.get_market_open_interest(markets=[\"binance-BTCUSDT-future\"]).to_dataframe()\n",
    "\n",
    "market_liquidations = client.get_market_liquidations(markets=[\"binance-BTCUSDT-future\"]).to_dataframe()\n",
    "\n",
    "market_funding_rates = client.get_market_funding_rates(markets=[\"binance-BTCUSDT-future\"]).to_dataframe()\n",
    "\n",
    "market_order_books = client.get_market_orderbooks(markets=\"coinbases-btc-usd-spot\",\n",
    "                                                  page_size=10,\n",
    "                                                  start_time=\"2022-04-27T00:00:00.000000000\",\n",
    "                                                  end_time=\"2022-04-27T01:00:00.000000000\",\n",
    "                                                  depth_limit=10).to_dataframe()\n",
    "\n",
    "market_quotes = client.get_market_quotes(markets=[\"binance-BTCUSDT-future\"]).to_dataframe()\n",
    "\n",
    "market_candles = client.get_market_candles(markets=[\"binance-btc-usdt-spot\"],\n",
    "                                           start_time='2020-01-01',\n",
    "                                           end_time='2022-01-03').to_dataframe()\n",
    "\n",
    "market_greeks = client.get_market_greeks(markets=[\"deribit-BTC-10APR21-50000-P-option\"]).to_dataframe()"
   ]
  },
  {
   "cell_type": "markdown",
   "id": "70800877",
   "metadata": {},
   "source": [
    "### Indices\n",
    "\n",
    "The full suite of indexes available through the API can be accessed through these endpoints."
   ]
  },
  {
   "cell_type": "code",
   "execution_count": null,
   "id": "2cb94d64",
   "metadata": {},
   "outputs": [],
   "source": [
    "index_levels = client.get_index_levels(indexes=[\"CMBI10EX\"],\n",
    "                                       start_time='2020-01-01',\n",
    "                                       end_time='2022-01-03').to_dataframe()\n",
    "\n",
    "index_constituents = client.get_index_constituents(indexes=[\"CMBI10\"]).to_dataframe()"
   ]
  },
  {
   "cell_type": "markdown",
   "id": "69d13a5f",
   "metadata": {},
   "source": [
    "### Farum\n",
    "\n",
    "Alerts and other endpoints associated with Farum can be accessed as follows."
   ]
  },
  {
   "cell_type": "code",
   "execution_count": null,
   "id": "5c55fa36",
   "metadata": {},
   "outputs": [],
   "source": [
    "asset_alerts = client.get_asset_alerts(assets=[\"eth\"],\n",
    "                                       alerts=\"block_count_by_unknown_miners_6b_hi\").to_dataframe()\n",
    "\n",
    "mining_pool_tips_summary = client.get_mining_pool_tips_summary(assets='btc',\n",
    "                                                              page_size=50).to_dataframe()\n",
    "\n",
    "mempool_feerates = client.get_mempool_feerates(assets='btc', \n",
    "                                               start_time='2022-04-28T00:00:00', \n",
    "                                               end_time='2022-04-28T00:01:00').to_dataframe()"
   ]
  },
  {
   "cell_type": "markdown",
   "id": "0930dfab",
   "metadata": {},
   "source": [
    "### Stream"
   ]
  },
  {
   "cell_type": "code",
   "execution_count": null,
   "id": "2cbbec99",
   "metadata": {},
   "outputs": [],
   "source": [
    "stream_asset_metrics = client.get_stream_asset_metrics(assets=['btc', 'eth'], \n",
    "                                                       frequency='1s',\n",
    "                                                       metrics=['ReferenceRateUSD', \n",
    "                                                                'ReferenceRateBTC', \n",
    "                                                                'ReferenceRateETH']\n",
    "                                                      )\n",
    "\n",
    "stream_market_trades = client.get_stream_market_trades(markets='binance-btc-usdt-spot')\n",
    "\n",
    "stream_market_orderbooks = client.get_stream_market_orderbooks(markets=\"binance-btc-usdt-spot\")\n",
    "\n",
    "stream_market_quotes = client.get_stream_market_quotes(markets=\"binance-btc-usdt-spot\")"
   ]
  },
  {
   "cell_type": "markdown",
   "id": "6ccfe33a",
   "metadata": {},
   "source": [
    "These stream endpoints connect to the websocket API and can be used in the following way:"
   ]
  },
  {
   "cell_type": "code",
   "execution_count": null,
   "id": "95d202db",
   "metadata": {
    "lines_to_next_cell": 2
   },
   "outputs": [],
   "source": [
    "stream = client.get_stream_asset_metrics(\n",
    "    assets=['btc', 'eth'], frequency='1s',\n",
    "    metrics=['ReferenceRateUSD', 'ReferenceRateBTC', 'ReferenceRateETH']\n",
    ")\n",
    "\n",
    "def on_message(\n",
    "        stream: CmStream, message: str\n",
    ") -> None:\n",
    "    \"\"\"\n",
    "    Custom message callable to be passed in the streaming object\n",
    "    :param stream: CmStream, WebSocketApp connection\n",
    "    :param message: str, The message relayed by the API\n",
    "    :return: None\n",
    "    \"\"\"\n",
    "    data = orjson.loads(message)\n",
    "    print(data)\n",
    "    sequence_id = int(data['cm_sequence_id'])\n",
    "    max_cm_sequence_id = 10 # close connection after 10 messages\n",
    "    if sequence_id >= max_cm_sequence_id:\n",
    "        print(f\"Closing the connection after {max_cm_sequence_id} messages...\")\n",
    "        stream.close()\n",
    "\n",
    "# blocks until connection is closed or interrupted\n",
    "stream.run(on_message=on_message)"
   ]
  },
  {
   "cell_type": "markdown",
   "id": "9ee30f95",
   "metadata": {},
   "source": [
    "### Atlas \n",
    "\n",
    "Users can also query Atlas data using the following block search endpoints."
   ]
  },
  {
   "cell_type": "code",
   "execution_count": null,
   "id": "279204f6",
   "metadata": {},
   "outputs": [],
   "source": [
    "list_of_blocks = client.get_list_of_blocks_v2(asset='ltc',\n",
    "                                              start_time='2022-04-28T00:00:00', \n",
    "                                              end_time='2022-04-28T01:00:00',\n",
    "                                              page_size=100).to_dataframe()\n",
    "\n",
    "list_of_accounts = client.get_list_of_accounts_v2(asset='usdc',\n",
    "                                                  start_time='2022-04-28T00:00:00', \n",
    "                                                  end_time='2022-04-28T01:00:00',\n",
    "                                                  page_size=100).to_dataframe()\n",
    "\n",
    "list_of_sub_accounts = client.get_list_of_sub_accounts_v2(asset='ltc',\n",
    "                                                          start_time='2022-04-28T00:00:00', \n",
    "                                                          end_time='2022-04-28T01:00:00',\n",
    "                                                          page_size=100).to_dataframe()\n",
    "\n",
    "list_of_transactions = client.get_list_of_transactions_v2(asset='ltc',\n",
    "                                                          start_time='2022-04-28T00:00:00', \n",
    "                                                          end_time='2022-04-28T01:00:00',\n",
    "                                                          page_size=100).to_dataframe()\n",
    "\n",
    "list_of_balance_updates = client.get_list_of_balance_updates_v2(asset='usdc',\n",
    "                                                                start_time='2022-04-28T00:00:00', \n",
    "                                                                end_time='2022-04-28T01:00:00',\n",
    "                                                                page_size=100).to_dataframe()"
   ]
  },
  {
   "cell_type": "code",
   "execution_count": null,
   "id": "3fc59505",
   "metadata": {},
   "outputs": [],
   "source": []
  }
 ],
 "metadata": {
  "jupytext": {
   "cell_metadata_filter": "-all",
   "encoding": "# coding: utf-8",
   "executable": "/usr/bin/env python",
   "main_language": "python",
   "notebook_metadata_filter": "-all",
   "text_representation": {
    "extension": ".py",
    "format_name": "percent"
   }
  }
 },
 "nbformat": 4,
 "nbformat_minor": 5
}
